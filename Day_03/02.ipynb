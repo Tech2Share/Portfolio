{
 "cells": [
  {
   "cell_type": "markdown",
   "metadata": {},
   "source": [
    "# EDA (Data Exploration, Data wranggling, Data munging, Data Pre-processing, Data cleaning)\n",
    "## Explore who collected/gather this data\n",
    "## What is data about \n",
    "## Find out meta data \n",
    "###### meaning of sibsp ,parch etc\n",
    "## dimension of data (using info)\n",
    "## Data forcing\n",
    "### when below 4 uses called descriptive/diagnostic data analytics\n",
    "##### composition\n",
    "##### distribution\n",
    "##### comparision\n",
    "##### correlation\n",
    "###### -1 ----- 0 ----- 1 "
   ]
  },
  {
   "cell_type": "markdown",
   "metadata": {},
   "source": []
  }
 ],
 "metadata": {
  "language_info": {
   "name": "python"
  }
 },
 "nbformat": 4,
 "nbformat_minor": 2
}
